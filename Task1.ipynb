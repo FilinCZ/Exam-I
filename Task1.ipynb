{"cells":[{"cell_type":"markdown","metadata":{},"source":["<center>\n","    <img src=\"https://s3-api.us-geo.objectstorage.softlayer.net/cf-courses-data/CognitiveClass/Logos/organization_logo/organization_logo.png\" width=\"300\" alt=\"cognitiveclass.ai logo\"  />\n","</center>\n"]},{"cell_type":"markdown","metadata":{},"source":["#### Add your code below following the instructions given in the course\n"]},{"cell_type":"code","execution_count":null,"metadata":{},"outputs":[],"source":[]}],"metadata":{"kernelspec":{"display_name":"Python 3","language":"python","name":"python3"},"language_info":{"codemirror_mode":{"name":"ipython","version":3},"file_extension":".py","mimetype":"text/x-python","name":"python","nbconvert_exporter":"python","pygments_lexer":"ipython3","version":"3.7.6"}},"nbformat":4,"nbformat_minor":4}
{
  "metadata": {
    "language_info": {
      "codemirror_mode": {
        "name": "python",
        "version": 3
      },
      "file_extension": ".py",
      "mimetype": "text/x-python",
      "name": "python",
      "nbconvert_exporter": "python",
      "pygments_lexer": "ipython3",
      "version": "3.8"
    },
    "kernelspec": {
      "name": "python",
      "display_name": "Python (Pyodide)",
      "language": "python"
    }
  },
  "nbformat_minor": 4,
  "nbformat": 4,
  "cells": [
    {
      "cell_type": "markdown",
      "source": "<h1>My Jupyter Notebook on IBM Watson Studio</h1>",
      "metadata": {}
    },
    {
      "cell_type": "markdown",
      "source": "<b>Filip Davydov</b> <br>\nBusinessman and IT tester",
      "metadata": {}
    },
    {
      "cell_type": "markdown",
      "source": "<i>I am interested in data science because this sphere has big future and can generate many useful things in the virtual world. My plan is to finish this course and apply for a job as data sientist. </i>",
      "metadata": {}
    },
    {
      "cell_type": "markdown",
      "source": "<H3>This program adds and multiplies three numbers</H3>",
      "metadata": {}
    },
    {
      "cell_type": "code",
      "source": "# This program adds and multiplies three numbers\n\nnum1 = 10\nnum2 = 365\nnum3 = 2\n\n# Add two numbers\nsum = num1 + num2 + num3\nproduct = num1 * num2 * num3\n\n# Display the sum and the product\nprint('The sum of {0} and {1} and {2} is {3}'.format(num1, num2, num3, sum))\nprint('The product of {0} and {1} and {2} is {3}'.format(num1, num2, num3, product))",
      "metadata": {
        "trusted": true
      },
      "execution_count": 12,
      "outputs": [
        {
          "name": "stdout",
          "text": "The sum of 10 and 365 and 2 is 377\nThe product of 10 and 365 and 2 is 7300\n",
          "output_type": "stream"
        }
      ]
    },
    {
      "cell_type": "markdown",
      "source": "* <a href=\"instagram.com/mr.quarantino\">My Instagram</a>\n***\n* <del>My Facebook</del>\n***\n* <a href=\"telegram.me/FilinCZ\">My Telegram</a>",
      "metadata": {}
    },
    {
      "cell_type": "code",
      "source": "",
      "metadata": {},
      "execution_count": null,
      "outputs": []
    }
  ]
}
